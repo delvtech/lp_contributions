{
 "cells": [
  {
   "cell_type": "code",
   "execution_count": 11,
   "metadata": {},
   "outputs": [],
   "source": [
    "import pandas as pd\n"
   ]
  },
  {
   "cell_type": "code",
   "execution_count": 32,
   "metadata": {},
   "outputs": [],
   "source": [
    "# read in data\n",
    "element_liquidity = pd.read_csv('element_liquidity.csv')\n",
    "element_liquidity_old = pd.read_csv('element_liquidity_old.csv')\n",
    "element_liquidity[\"datetime\"] = pd.to_datetime(element_liquidity[\"evt_block_time\"])\n",
    "element_liquidity_old[\"datetime\"] = pd.to_datetime(element_liquidity_old[\"evt_block_time\"])\n",
    "element_liquidity.sort_values(by='datetime',ascending=False)\n",
    "element_liquidity_old.sort_values(by='datetime',ascending=False)\n",
    "element_liquidity_old = element_liquidity_old.drop(columns=['liquidityProvider']) # drop column liquidityProvider"
   ]
  },
  {
   "cell_type": "code",
   "execution_count": 24,
   "metadata": {},
   "outputs": [
    {
     "name": "stdout",
     "output_type": "stream",
     "text": [
      "old dataset includes data up to 2022-03-01 17:33:26+00:00\n"
     ]
    }
   ],
   "source": [
    "max_date_old = element_liquidity_old['datetime'].max()\n",
    "print(f\"old dataset includes data up to {max_date_old}\")\n",
    "element_liquidity_truncated = element_liquidity[element_liquidity['datetime'] <= max_date_old]\n"
   ]
  },
  {
   "cell_type": "code",
   "execution_count": 25,
   "metadata": {},
   "outputs": [
    {
     "data": {
      "text/plain": [
       "False"
      ]
     },
     "execution_count": 25,
     "metadata": {},
     "output_type": "execute_result"
    }
   ],
   "source": [
    "# compare the two dataframes\n",
    "element_liquidity_truncated.equals(element_liquidity_old)"
   ]
  },
  {
   "cell_type": "code",
   "execution_count": 26,
   "metadata": {},
   "outputs": [
    {
     "data": {
      "text/plain": [
       "'new shape: (20148, 16)\\nold shape: (20148, 16)'"
      ]
     },
     "metadata": {},
     "output_type": "display_data"
    }
   ],
   "source": [
    "# compare the number of rows\n",
    "display(f\"new shape: {element_liquidity_truncated.shape}\\nold shape: {element_liquidity_old.shape}\")"
   ]
  },
  {
   "cell_type": "code",
   "execution_count": 27,
   "metadata": {},
   "outputs": [
    {
     "name": "stdout",
     "output_type": "stream",
     "text": [
      "entries not in new: 0\n",
      "entries not in old: 0\n"
     ]
    }
   ],
   "source": [
    "# identify entries in the evt_tx_hash column that are not in element_liquidity_truncated\n",
    "idx_not_in_new = ~element_liquidity_old['evt_tx_hash'].isin(element_liquidity_truncated['evt_tx_hash'])\n",
    "print(f\"entries not in new: {sum(idx_not_in_new)}\")\n",
    "# identify entries in the evt_tx_hash column that are not in element_liquidity_old\n",
    "idx_not_in_old = ~element_liquidity_truncated['evt_tx_hash'].isin(element_liquidity_old['evt_tx_hash'])\n",
    "print(f\"entries not in old: {sum(idx_not_in_old)}\")\n"
   ]
  },
  {
   "cell_type": "code",
   "execution_count": 28,
   "metadata": {},
   "outputs": [
    {
     "data": {
      "text/html": [
       "<div>\n",
       "<style scoped>\n",
       "    .dataframe tbody tr th:only-of-type {\n",
       "        vertical-align: middle;\n",
       "    }\n",
       "\n",
       "    .dataframe tbody tr th {\n",
       "        vertical-align: top;\n",
       "    }\n",
       "\n",
       "    .dataframe thead th {\n",
       "        text-align: right;\n",
       "    }\n",
       "</style>\n",
       "<table border=\"1\" class=\"dataframe\">\n",
       "  <thead>\n",
       "    <tr style=\"text-align: right;\">\n",
       "      <th></th>\n",
       "      <th>evt_block_time</th>\n",
       "      <th>evt_block_number</th>\n",
       "      <th>liquidity_provider</th>\n",
       "      <th>e_asset</th>\n",
       "      <th>lp_token</th>\n",
       "      <th>deposit_size_base</th>\n",
       "      <th>deposit_size_base_usd</th>\n",
       "      <th>deposit_size_e_asset</th>\n",
       "      <th>lp_tokens_acquired</th>\n",
       "      <th>tx_fee_eth</th>\n",
       "      <th>tx_fee_usd</th>\n",
       "      <th>evt_tx_hash</th>\n",
       "      <th>nonce</th>\n",
       "      <th>index</th>\n",
       "      <th>tx_index</th>\n",
       "      <th>datetime</th>\n",
       "    </tr>\n",
       "  </thead>\n",
       "  <tbody>\n",
       "  </tbody>\n",
       "</table>\n",
       "</div>"
      ],
      "text/plain": [
       "Empty DataFrame\n",
       "Columns: [evt_block_time, evt_block_number, liquidity_provider, e_asset, lp_token, deposit_size_base, deposit_size_base_usd, deposit_size_e_asset, lp_tokens_acquired, tx_fee_eth, tx_fee_usd, evt_tx_hash, nonce, index, tx_index, datetime]\n",
       "Index: []"
      ]
     },
     "metadata": {},
     "output_type": "display_data"
    },
    {
     "data": {
      "text/plain": [
       "array([], dtype=object)"
      ]
     },
     "metadata": {},
     "output_type": "display_data"
    }
   ],
   "source": [
    "# show the entries in the evt_tx_hash column that are not in element_liquidity_old\n",
    "not_in_new = element_liquidity_old.loc[idx_not_in_new,:]\n",
    "display(not_in_new)\n",
    "display(not_in_new.e_asset.unique())\n"
   ]
  },
  {
   "cell_type": "code",
   "execution_count": 34,
   "metadata": {},
   "outputs": [
    {
     "data": {
      "text/html": [
       "<div>\n",
       "<style scoped>\n",
       "    .dataframe tbody tr th:only-of-type {\n",
       "        vertical-align: middle;\n",
       "    }\n",
       "\n",
       "    .dataframe tbody tr th {\n",
       "        vertical-align: top;\n",
       "    }\n",
       "\n",
       "    .dataframe thead th {\n",
       "        text-align: right;\n",
       "    }\n",
       "</style>\n",
       "<table border=\"1\" class=\"dataframe\">\n",
       "  <thead>\n",
       "    <tr style=\"text-align: right;\">\n",
       "      <th></th>\n",
       "      <th>evt_block_time</th>\n",
       "      <th>evt_block_number</th>\n",
       "      <th>liquidity_provider</th>\n",
       "      <th>e_asset</th>\n",
       "      <th>lp_token</th>\n",
       "      <th>deposit_size_base</th>\n",
       "      <th>deposit_size_base_usd</th>\n",
       "      <th>deposit_size_e_asset</th>\n",
       "      <th>lp_tokens_acquired</th>\n",
       "      <th>tx_fee_eth</th>\n",
       "      <th>tx_fee_usd</th>\n",
       "      <th>evt_tx_hash</th>\n",
       "      <th>nonce</th>\n",
       "      <th>index</th>\n",
       "      <th>tx_index</th>\n",
       "      <th>datetime</th>\n",
       "    </tr>\n",
       "  </thead>\n",
       "  <tbody>\n",
       "  </tbody>\n",
       "</table>\n",
       "</div>"
      ],
      "text/plain": [
       "Empty DataFrame\n",
       "Columns: [evt_block_time, evt_block_number, liquidity_provider, e_asset, lp_token, deposit_size_base, deposit_size_base_usd, deposit_size_e_asset, lp_tokens_acquired, tx_fee_eth, tx_fee_usd, evt_tx_hash, nonce, index, tx_index, datetime]\n",
       "Index: []"
      ]
     },
     "metadata": {},
     "output_type": "display_data"
    },
    {
     "data": {
      "text/plain": [
       "array([], dtype=object)"
      ]
     },
     "metadata": {},
     "output_type": "display_data"
    }
   ],
   "source": [
    "# show the entries in the evt_tx_hash column that are not in element_liquidity_old\n",
    "not_in_old = element_liquidity_truncated.loc[idx_not_in_old,:]\n",
    "display(not_in_old)\n",
    "display(not_in_old.e_asset.unique())\n"
   ]
  },
  {
   "cell_type": "code",
   "execution_count": 36,
   "metadata": {},
   "outputs": [
    {
     "name": "stderr",
     "output_type": "stream",
     "text": [
      "/tmp/ipykernel_580807/1205616923.py:1: FutureWarning: The default value of numeric_only in DataFrame.sum is deprecated. In a future version, it will default to False. In addition, specifying 'numeric_only=None' is deprecated. Select only valid columns or specify the value of numeric_only to silence this warning.\n",
      "  element_liquidity_truncated.sum()\n"
     ]
    },
    {
     "data": {
      "text/plain": [
       "evt_block_time           2022-03-01 17:33:26+00:002022-03-01 14:46:21+0...\n",
       "evt_block_number                                              273686157086\n",
       "liquidity_provider       \\xa8c4e3ce1743d0f2a6c227548c982a7c40569940\\x63...\n",
       "e_asset                  ePyvDAI-29APR22ePyvUSDC-29APR22ePyvUSDC-28JAN2...\n",
       "lp_token                 LPePyvDAI-29APR22LPePyvUSDC-29APR22LPePyvUSDC-...\n",
       "deposit_size_base                                          45316297.014307\n",
       "deposit_size_base_usd                                      98243884.685318\n",
       "deposit_size_e_asset                                        30162823.57091\n",
       "lp_tokens_acquired                                         65912846.226994\n",
       "tx_fee_eth                                                      244.389492\n",
       "tx_fee_usd                                                   916375.824698\n",
       "evt_tx_hash              \\x9a95e2f9e3f81848dc78e4cc52e158f0faa8fbc85a4e...\n",
       "nonce                                                            5288074.0\n",
       "index                                                              5813773\n",
       "tx_index                                                         3649472.0\n",
       "dtype: object"
      ]
     },
     "execution_count": 36,
     "metadata": {},
     "output_type": "execute_result"
    }
   ],
   "source": [
    "element_liquidity_truncated.sum()"
   ]
  },
  {
   "cell_type": "code",
   "execution_count": 37,
   "metadata": {},
   "outputs": [
    {
     "name": "stderr",
     "output_type": "stream",
     "text": [
      "/tmp/ipykernel_580807/15074778.py:1: FutureWarning: The default value of numeric_only in DataFrame.sum is deprecated. In a future version, it will default to False. In addition, specifying 'numeric_only=None' is deprecated. Select only valid columns or specify the value of numeric_only to silence this warning.\n",
      "  element_liquidity_old.sum()\n"
     ]
    },
    {
     "data": {
      "text/plain": [
       "evt_block_time           2022-03-01T17:33:26+00:002022-03-01T14:46:21+0...\n",
       "evt_block_number                                              273686157086\n",
       "liquidity_provider       \\xa8c4e3ce1743d0f2a6c227548c982a7c40569940\\x63...\n",
       "e_asset                  ePyvDAI-29APR22ePyvUSDC-29APR22ePyvUSDC-28JAN2...\n",
       "lp_token                 LPePyvDAI-29APR22LPePyvUSDC-29APR22LPePyvUSDC-...\n",
       "deposit_size_base                                          45316297.014307\n",
       "deposit_size_base_usd                                      98243884.685318\n",
       "deposit_size_e_asset                                        30162823.57091\n",
       "lp_tokens_acquired                                         65912846.226994\n",
       "tx_fee_eth                                                      244.389492\n",
       "tx_fee_usd                                                   916375.824698\n",
       "evt_tx_hash              \\x9a95e2f9e3f81848dc78e4cc52e158f0faa8fbc85a4e...\n",
       "nonce                                                              5288074\n",
       "index                                                              5813773\n",
       "tx_index                                                           3649472\n",
       "dtype: object"
      ]
     },
     "execution_count": 37,
     "metadata": {},
     "output_type": "execute_result"
    }
   ],
   "source": [
    "element_liquidity_old.sum()"
   ]
  },
  {
   "cell_type": "code",
   "execution_count": 46,
   "metadata": {},
   "outputs": [
    {
     "data": {
      "text/plain": [
       "['ePyvCurve-alUSD-16SEP22',\n",
       " 'ePyvDAI-16SEP22',\n",
       " 'ePyvDAI-24FEB23',\n",
       " 'ePyvUSDC-16SEP22',\n",
       " 'ePyvBalancer-BoostedAaveUSD-04MAY23',\n",
       " 'ePyvUSDC-24FEB23',\n",
       " 'ePyvcrv3crypto-16SEP22',\n",
       " 'ePyvCurveLUSD-16SEP22',\n",
       " 'ePyvcrvSTETH-24FEB23',\n",
       " 'ePyvcrvSTETH-16SEP22']"
      ]
     },
     "execution_count": 46,
     "metadata": {},
     "output_type": "execute_result"
    }
   ],
   "source": [
    "# looking at new data, list the tokens in the data\n",
    "list_of_new_pools = element_liquidity.e_asset.unique()\n",
    "list_of_old_pools = element_liquidity_old.e_asset.unique()\n",
    "# new pools not in old\n",
    "list(set(list_of_new_pools) - set(list_of_old_pools))"
   ]
  },
  {
   "cell_type": "code",
   "execution_count": null,
   "metadata": {},
   "outputs": [],
   "source": []
  }
 ],
 "metadata": {
  "kernelspec": {
   "display_name": "Python 3",
   "language": "python",
   "name": "python3"
  },
  "language_info": {
   "codemirror_mode": {
    "name": "ipython",
    "version": 3
   },
   "file_extension": ".py",
   "mimetype": "text/x-python",
   "name": "python",
   "nbconvert_exporter": "python",
   "pygments_lexer": "ipython3",
   "version": "3.11.0"
  },
  "orig_nbformat": 4,
  "vscode": {
   "interpreter": {
    "hash": "ee7104a25c4a35c6f4a1ecc25ea7f92f7ba8866cf7232e0213adf97031d9f04c"
   }
  }
 },
 "nbformat": 4,
 "nbformat_minor": 2
}
