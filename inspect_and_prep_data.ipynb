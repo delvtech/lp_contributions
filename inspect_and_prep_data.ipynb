{
 "cells": [
  {
   "cell_type": "code",
   "execution_count": 8,
   "metadata": {},
   "outputs": [],
   "source": [
    "import re\n",
    "import requests\n",
    "import pandas as pd\n",
    "import psqlite as pql\n",
    "import numpy as np\n",
    "import time\n",
    "import statistics\n",
    "import json\n",
    "\n",
    "from collections import defaultdict\n",
    "from datetime import datetime, timedelta, date\n",
    "\n",
    "from run_query import run_query\n",
    "\n",
    "# read from csv\n",
    "element_liquidity = pd.read_csv(\"./element_liquidity.csv\")\n",
    "element_transfers = pd.read_csv(\"./element_transfers.csv\")\n",
    "\n",
    "# fix usd value\n",
    "element_liquidity[\"price\"] = (\n",
    "    element_liquidity[\"deposit_size_base_usd\"] / element_liquidity[\"deposit_size_base\"]\n",
    ")\n",
    "element_liquidity[\"deposit_size_base_usd\"] = (\n",
    "    element_liquidity[\"lp_tokens_acquired\"] * element_liquidity[\"price\"]\n",
    ")\n"
   ]
  },
  {
   "cell_type": "code",
   "execution_count": 6,
   "metadata": {},
   "outputs": [
    {
     "data": {
      "text/plain": [
       "0"
      ]
     },
     "metadata": {},
     "output_type": "display_data"
    },
    {
     "data": {
      "text/plain": [
       "0"
      ]
     },
     "metadata": {},
     "output_type": "display_data"
    },
    {
     "data": {
      "text/plain": [
       "1"
      ]
     },
     "metadata": {},
     "output_type": "display_data"
    },
    {
     "data": {
      "text/html": [
       "<div>\n",
       "<style scoped>\n",
       "    .dataframe tbody tr th:only-of-type {\n",
       "        vertical-align: middle;\n",
       "    }\n",
       "\n",
       "    .dataframe tbody tr th {\n",
       "        vertical-align: top;\n",
       "    }\n",
       "\n",
       "    .dataframe thead th {\n",
       "        text-align: right;\n",
       "    }\n",
       "</style>\n",
       "<table border=\"1\" class=\"dataframe\">\n",
       "  <thead>\n",
       "    <tr style=\"text-align: right;\">\n",
       "      <th></th>\n",
       "      <th>block_time</th>\n",
       "      <th>block_number</th>\n",
       "      <th>contract_address</th>\n",
       "      <th>sender</th>\n",
       "      <th>recipient</th>\n",
       "      <th>tokens_transferred</th>\n",
       "      <th>tx_hash</th>\n",
       "      <th>index</th>\n",
       "      <th>tx_index</th>\n",
       "    </tr>\n",
       "  </thead>\n",
       "  <tbody>\n",
       "    <tr>\n",
       "      <th>4302</th>\n",
       "      <td>2022-09-23 07:21:11+00:00</td>\n",
       "      <td>15594519</td>\n",
       "      <td>\\xa2b3d083aa1eaa8453bfb477f062a208ed85cbbf</td>\n",
       "      <td>\\xece48d83a2f89b6f5ded23362ac15c19f91e0ddb</td>\n",
       "      <td>\\x5750b90fa979aa4b8a28e05f865a66c0be396750</td>\n",
       "      <td>24.397053</td>\n",
       "      <td>\\x35cab14f709bb6100f47d4448096fdb36b53441c6142...</td>\n",
       "      <td>15.0</td>\n",
       "      <td>21.0</td>\n",
       "    </tr>\n",
       "  </tbody>\n",
       "</table>\n",
       "</div>"
      ],
      "text/plain": [
       "                     block_time  block_number  \\\n",
       "4302  2022-09-23 07:21:11+00:00      15594519   \n",
       "\n",
       "                                contract_address  \\\n",
       "4302  \\xa2b3d083aa1eaa8453bfb477f062a208ed85cbbf   \n",
       "\n",
       "                                          sender  \\\n",
       "4302  \\xece48d83a2f89b6f5ded23362ac15c19f91e0ddb   \n",
       "\n",
       "                                       recipient  tokens_transferred  \\\n",
       "4302  \\x5750b90fa979aa4b8a28e05f865a66c0be396750           24.397053   \n",
       "\n",
       "                                                tx_hash  index  tx_index  \n",
       "4302  \\x35cab14f709bb6100f47d4448096fdb36b53441c6142...   15.0      21.0  "
      ]
     },
     "metadata": {},
     "output_type": "display_data"
    },
    {
     "data": {
      "text/plain": [
       "array([False])"
      ]
     },
     "metadata": {},
     "output_type": "display_data"
    },
    {
     "data": {
      "text/plain": [
       "0"
      ]
     },
     "metadata": {},
     "output_type": "display_data"
    },
    {
     "data": {
      "text/plain": [
       "(4554, 9)"
      ]
     },
     "metadata": {},
     "output_type": "display_data"
    },
    {
     "data": {
      "text/plain": [
       "(4553, 9)"
      ]
     },
     "metadata": {},
     "output_type": "display_data"
    }
   ],
   "source": [
    "# display(element_liquidity.head(1))\n",
    "display(sum(element_liquidity.liquidity_provider=='\\\\xece48d83a2f89b6f5ded23362ac15c19f91e0ddb'))\n",
    "display(sum(element_liquidity.liquidityProvider=='\\\\xece48d83a2f89b6f5ded23362ac15c19f91e0ddb'))\n",
    "display(sum(element_transfers.sender=='\\\\xece48d83a2f89b6f5ded23362ac15c19f91e0ddb'))\n",
    "display(element_transfers.loc[element_transfers.sender=='\\\\xece48d83a2f89b6f5ded23362ac15c19f91e0ddb',:])\n",
    "display(element_transfers.loc[element_transfers.sender=='\\\\xece48d83a2f89b6f5ded23362ac15c19f91e0ddb','tokens_transferred'].values==0)\n",
    "display(sum(element_transfers.recipient=='\\\\xece48d83a2f89b6f5ded23362ac15c19f91e0ddb'))\n",
    "\n",
    "display(element_transfers.shape)\n",
    "# remove user who sends before receiving ()\n",
    "element_transfers = element_transfers.loc[element_transfers.sender!='\\\\xece48d83a2f89b6f5ded23362ac15c19f91e0ddb',:]\n",
    "display(element_transfers.shape)"
   ]
  },
  {
   "cell_type": "code",
   "execution_count": 9,
   "metadata": {},
   "outputs": [
    {
     "data": {
      "text/html": [
       "<div>\n",
       "<style scoped>\n",
       "    .dataframe tbody tr th:only-of-type {\n",
       "        vertical-align: middle;\n",
       "    }\n",
       "\n",
       "    .dataframe tbody tr th {\n",
       "        vertical-align: top;\n",
       "    }\n",
       "\n",
       "    .dataframe thead th {\n",
       "        text-align: right;\n",
       "    }\n",
       "</style>\n",
       "<table border=\"1\" class=\"dataframe\">\n",
       "  <thead>\n",
       "    <tr style=\"text-align: right;\">\n",
       "      <th></th>\n",
       "      <th>block_time</th>\n",
       "      <th>block_number</th>\n",
       "      <th>contract_address</th>\n",
       "      <th>sender</th>\n",
       "      <th>recipient</th>\n",
       "      <th>tokens_transferred</th>\n",
       "      <th>tx_hash</th>\n",
       "      <th>index</th>\n",
       "      <th>tx_index</th>\n",
       "    </tr>\n",
       "  </thead>\n",
       "  <tbody>\n",
       "    <tr>\n",
       "      <th>0</th>\n",
       "      <td>2021-08-06 04:15:52+00:00</td>\n",
       "      <td>12969195</td>\n",
       "      <td>\\x787546bf2c05e3e19e2b6bde57a203da7f682eff</td>\n",
       "      <td>\\xf83895c42ea4c2b6e1f597828a1f27a0d7147497</td>\n",
       "      <td>\\xa500e3a6ec04f77a833922f257bdaf2b0c47924d</td>\n",
       "      <td>103526.225703</td>\n",
       "      <td>\\x96d9e74e6973eb26ce9475a4dadd5c580f655abe038a...</td>\n",
       "      <td>501.0</td>\n",
       "      <td>315.0</td>\n",
       "    </tr>\n",
       "  </tbody>\n",
       "</table>\n",
       "</div>"
      ],
      "text/plain": [
       "                  block_time  block_number  \\\n",
       "0  2021-08-06 04:15:52+00:00      12969195   \n",
       "\n",
       "                             contract_address  \\\n",
       "0  \\x787546bf2c05e3e19e2b6bde57a203da7f682eff   \n",
       "\n",
       "                                       sender  \\\n",
       "0  \\xf83895c42ea4c2b6e1f597828a1f27a0d7147497   \n",
       "\n",
       "                                    recipient  tokens_transferred  \\\n",
       "0  \\xa500e3a6ec04f77a833922f257bdaf2b0c47924d       103526.225703   \n",
       "\n",
       "                                             tx_hash  index  tx_index  \n",
       "0  \\x96d9e74e6973eb26ce9475a4dadd5c580f655abe038a...  501.0     315.0  "
      ]
     },
     "metadata": {},
     "output_type": "display_data"
    },
    {
     "name": "stdout",
     "output_type": "stream",
     "text": [
      "txn's where sender is 0 address or balancer: 0\n",
      "txn's where recipient is 0 address or balancer: 0\n",
      "txn's where tokens_transferred is 0 : 0\n",
      "sum of the above three: 0\n",
      "combined txn's: 0\n"
     ]
    }
   ],
   "source": [
    "display(element_transfers.head(1))\n",
    "# element_transfers.token.value_counts()\n",
    "# from original query:\n",
    "# --Exclude mints and burns by the Balancer contract\n",
    "# where \"sender\" not in ('\\x0000000000000000000000000000000000000000', '\\xba12222222228d8ba445958a75a0704d566bf2c8') \n",
    "# and \"recipient\" not in ('\\x0000000000000000000000000000000000000000', '\\xba12222222228d8ba445958a75a0704d566bf2c8')\n",
    "eliminate_addresses = ['\\\\x0000000000000000000000000000000000000000', '\\\\xba12222222228d8ba445958a75a0704d566bf2c8']\n",
    "sender_bad = element_transfers.sender.isin(eliminate_addresses)\n",
    "print(f\"txn's where sender is 0 address or balancer: {sum(sender_bad)}\")\n",
    "recipient_bad = element_transfers.recipient.isin(eliminate_addresses)\n",
    "print(f\"txn's where recipient is 0 address or balancer: {sum(recipient_bad)}\")\n",
    "amount_bad = element_transfers.tokens_transferred==0\n",
    "print(f\"txn's where tokens_transferred is 0 : {sum(amount_bad)}\")\n",
    "print(f\"sum of the above three: {sum(sender_bad)+sum(recipient_bad)+sum(amount_bad)}\")\n",
    "print(f\"combined txn's: {sum(sender_bad | recipient_bad | amount_bad)}\")\n"
   ]
  },
  {
   "cell_type": "code",
   "execution_count": 45,
   "metadata": {},
   "outputs": [
    {
     "data": {
      "text/plain": [
       "(1762, 10)"
      ]
     },
     "metadata": {},
     "output_type": "display_data"
    }
   ],
   "source": [
    "element_transfers_filtered = element_transfers.loc[~(sender_bad | recipient_bad | amount_bad), :]\n",
    "display(element_transfers_filtered.shape)\n",
    "element_transfers_filtered.to_csv(\"element_transfers.csv\", index=False)"
   ]
  },
  {
   "cell_type": "code",
   "execution_count": 4,
   "metadata": {},
   "outputs": [],
   "source": [
    "# for _, row in lp_events.iterrows():\n",
    "#     new_row = dict(row)\n",
    "#     token_name = new_row[\"token_name\"]\n",
    "#     if token_name is None:\n",
    "#         # display(\"warning: none token name:\")\n",
    "#         # display(new_row)\n",
    "#         none_tx_hashes.append(new_row[\"tx_hash\"])\n",
    "# display(lp_events.loc[lp_events.tx_hash.isin(none_tx_hashes),:])\n",
    "\n",
    "for _, row in element_transfers.iterrows():\n",
    "    if row[\"token\"] is None:\n",
    "        print(row)"
   ]
  },
  {
   "cell_type": "code",
   "execution_count": 5,
   "metadata": {},
   "outputs": [
    {
     "data": {
      "text/html": [
       "<div>\n",
       "<style scoped>\n",
       "    .dataframe tbody tr th:only-of-type {\n",
       "        vertical-align: middle;\n",
       "    }\n",
       "\n",
       "    .dataframe tbody tr th {\n",
       "        vertical-align: top;\n",
       "    }\n",
       "\n",
       "    .dataframe thead th {\n",
       "        text-align: right;\n",
       "    }\n",
       "</style>\n",
       "<table border=\"1\" class=\"dataframe\">\n",
       "  <thead>\n",
       "    <tr style=\"text-align: right;\">\n",
       "      <th></th>\n",
       "      <th>token_address_raw</th>\n",
       "      <th>token_name</th>\n",
       "      <th>long_name</th>\n",
       "    </tr>\n",
       "  </thead>\n",
       "  <tbody>\n",
       "    <tr>\n",
       "      <th>0</th>\n",
       "      <td>\\x2260fac5e5542a773aa44fbcfedf7c193bc2c599</td>\n",
       "      <td>WBTC</td>\n",
       "      <td>Wrapped BTC</td>\n",
       "    </tr>\n",
       "    <tr>\n",
       "      <th>1</th>\n",
       "      <td>\\x43b4fdfd4ff969587185cdb6f0bd875c5fc83f8c</td>\n",
       "      <td>alUSD3CRV-f</td>\n",
       "      <td>Curve.fi Factory USD Metapool: Alchemix USD</td>\n",
       "    </tr>\n",
       "    <tr>\n",
       "      <th>2</th>\n",
       "      <td>\\x5a6a4d54456819380173272a5e8e9b9904bdf41b</td>\n",
       "      <td>MIM-3LP3CRV-f</td>\n",
       "      <td>Curve.fi Factory USD Metapool: Magic Internet ...</td>\n",
       "    </tr>\n",
       "    <tr>\n",
       "      <th>3</th>\n",
       "      <td>\\xa0b86991c6218b36c1d19d4a2e9eb0ce3606eb48</td>\n",
       "      <td>USDC</td>\n",
       "      <td>USD Coin</td>\n",
       "    </tr>\n",
       "    <tr>\n",
       "      <th>4</th>\n",
       "      <td>\\xed279fdd11ca84beef15af5d39bb4d4bee23f0ca</td>\n",
       "      <td>LUSD3CRV-f</td>\n",
       "      <td>Curve.fi Factory USD Metapool: Liquity</td>\n",
       "    </tr>\n",
       "    <tr>\n",
       "      <th>...</th>\n",
       "      <td>...</td>\n",
       "      <td>...</td>\n",
       "      <td>...</td>\n",
       "    </tr>\n",
       "    <tr>\n",
       "      <th>95</th>\n",
       "      <td>\\x5746afd392b13946aacbda40317751db27d8b918</td>\n",
       "      <td>LPePyvUSDC-24FEB23</td>\n",
       "      <td>LP Element Principal Token yvUSDC-24FEB23</td>\n",
       "    </tr>\n",
       "    <tr>\n",
       "      <th>96</th>\n",
       "      <td>\\x724e3073317d4b1a8d0c6e89b137ea5af1f4051e</td>\n",
       "      <td>ePyvCurve-stETH-24FEB23</td>\n",
       "      <td>Element Principal Token yvCurve-stETH-24FEB23</td>\n",
       "    </tr>\n",
       "    <tr>\n",
       "      <th>97</th>\n",
       "      <td>\\x07f589ea6b789249c83992dd1ed324c3b80fd06b</td>\n",
       "      <td>LPePyvCurve-stETH-24FEB23</td>\n",
       "      <td>LP Element Principal Token yvCurve-stETH-24FEB23</td>\n",
       "    </tr>\n",
       "    <tr>\n",
       "      <th>98</th>\n",
       "      <td>\\x7e4fee0c14673db4f1526fdbea53819e5808a9b5</td>\n",
       "      <td>ePyvBalancer-BoostedAaveUSD-04MAY23</td>\n",
       "      <td>Element Principal Token yvBalancer-BoostedAave...</td>\n",
       "    </tr>\n",
       "    <tr>\n",
       "      <th>99</th>\n",
       "      <td>\\x28b0379d98fb80da460c190c95f97c74302214b1</td>\n",
       "      <td>LPePyvBalancer-BoostedAaveUSD-04MAY23</td>\n",
       "      <td>LP Element Principal Token yvBalancer-BoostedA...</td>\n",
       "    </tr>\n",
       "  </tbody>\n",
       "</table>\n",
       "<p>100 rows × 3 columns</p>\n",
       "</div>"
      ],
      "text/plain": [
       "                             token_address_raw  \\\n",
       "0   \\x2260fac5e5542a773aa44fbcfedf7c193bc2c599   \n",
       "1   \\x43b4fdfd4ff969587185cdb6f0bd875c5fc83f8c   \n",
       "2   \\x5a6a4d54456819380173272a5e8e9b9904bdf41b   \n",
       "3   \\xa0b86991c6218b36c1d19d4a2e9eb0ce3606eb48   \n",
       "4   \\xed279fdd11ca84beef15af5d39bb4d4bee23f0ca   \n",
       "..                                         ...   \n",
       "95  \\x5746afd392b13946aacbda40317751db27d8b918   \n",
       "96  \\x724e3073317d4b1a8d0c6e89b137ea5af1f4051e   \n",
       "97  \\x07f589ea6b789249c83992dd1ed324c3b80fd06b   \n",
       "98  \\x7e4fee0c14673db4f1526fdbea53819e5808a9b5   \n",
       "99  \\x28b0379d98fb80da460c190c95f97c74302214b1   \n",
       "\n",
       "                               token_name  \\\n",
       "0                                    WBTC   \n",
       "1                             alUSD3CRV-f   \n",
       "2                           MIM-3LP3CRV-f   \n",
       "3                                    USDC   \n",
       "4                              LUSD3CRV-f   \n",
       "..                                    ...   \n",
       "95                     LPePyvUSDC-24FEB23   \n",
       "96                ePyvCurve-stETH-24FEB23   \n",
       "97              LPePyvCurve-stETH-24FEB23   \n",
       "98    ePyvBalancer-BoostedAaveUSD-04MAY23   \n",
       "99  LPePyvBalancer-BoostedAaveUSD-04MAY23   \n",
       "\n",
       "                                            long_name  \n",
       "0                                         Wrapped BTC  \n",
       "1         Curve.fi Factory USD Metapool: Alchemix USD  \n",
       "2   Curve.fi Factory USD Metapool: Magic Internet ...  \n",
       "3                                            USD Coin  \n",
       "4              Curve.fi Factory USD Metapool: Liquity  \n",
       "..                                                ...  \n",
       "95          LP Element Principal Token yvUSDC-24FEB23  \n",
       "96      Element Principal Token yvCurve-stETH-24FEB23  \n",
       "97   LP Element Principal Token yvCurve-stETH-24FEB23  \n",
       "98  Element Principal Token yvBalancer-BoostedAave...  \n",
       "99  LP Element Principal Token yvBalancer-BoostedA...  \n",
       "\n",
       "[100 rows x 3 columns]"
      ]
     },
     "metadata": {},
     "output_type": "display_data"
    }
   ],
   "source": [
    "# get token names\n",
    "token_names = pd.read_csv(\"element_tokens.csv\")\n",
    "display(token_names)\n"
   ]
  },
  {
   "cell_type": "code",
   "execution_count": 6,
   "metadata": {},
   "outputs": [],
   "source": [
    "# token mappings\n",
    "contract_url = \"https://raw.githubusercontent.com/delvtech/elf-deploy/main/addresses/mainnet.json\"\n",
    "element_token_mappings = requests.get(contract_url).json()\n"
   ]
  },
  {
   "cell_type": "code",
   "execution_count": 17,
   "metadata": {},
   "outputs": [
    {
     "data": {
      "text/html": [
       "<div>\n",
       "<style scoped>\n",
       "    .dataframe tbody tr th:only-of-type {\n",
       "        vertical-align: middle;\n",
       "    }\n",
       "\n",
       "    .dataframe tbody tr th {\n",
       "        vertical-align: top;\n",
       "    }\n",
       "\n",
       "    .dataframe thead th {\n",
       "        text-align: right;\n",
       "    }\n",
       "</style>\n",
       "<table border=\"1\" class=\"dataframe\">\n",
       "  <thead>\n",
       "    <tr style=\"text-align: right;\">\n",
       "      <th></th>\n",
       "      <th>token_address_raw</th>\n",
       "      <th>token_name</th>\n",
       "      <th>expiry_timestamp</th>\n",
       "      <th>expiry_datetime</th>\n",
       "    </tr>\n",
       "  </thead>\n",
       "  <tbody>\n",
       "    <tr>\n",
       "      <th>0</th>\n",
       "      <td>\\xc9ad279994980f8df348b526901006972509677f</td>\n",
       "      <td>LPePyvCurve-alUSD-28JAN22</td>\n",
       "      <td>1643382460</td>\n",
       "      <td>2022-01-28 10:07:40</td>\n",
       "    </tr>\n",
       "  </tbody>\n",
       "</table>\n",
       "</div>"
      ],
      "text/plain": [
       "                            token_address_raw                 token_name  \\\n",
       "0  \\xc9ad279994980f8df348b526901006972509677f  LPePyvCurve-alUSD-28JAN22   \n",
       "\n",
       "   expiry_timestamp      expiry_datetime  \n",
       "0        1643382460  2022-01-28 10:07:40  "
      ]
     },
     "metadata": {},
     "output_type": "display_data"
    }
   ],
   "source": [
    "tokens_from_github = []\n",
    "for token, data in element_token_mappings[\"tranches\"].items():\n",
    "    for tranche in data:\n",
    "        for token_type in (\"ptPool\", \"ytPool\"):\n",
    "            if token_type in tranche:\n",
    "                tokens_from_github.append(\n",
    "                    {\n",
    "                        \"expiry_timestamp\": tranche[\"expiration\"],\n",
    "                        \"expiry_datetime\": datetime.fromtimestamp(\n",
    "                            tranche[\"expiration\"]\n",
    "                        ).strftime(\"%Y-%m-%d %H:%M:%S\"),\n",
    "                        \"token_address_raw\": \"\\\\\"\n",
    "                        + tranche[token_type][\"address\"][1:].lower(),\n",
    "                        \"token_type\": \"LPeP\" if token_type == \"ptPool\" else \"LPeY\",\n",
    "                        \"poolId\": \"\\\\\" + tranche[token_type][\"poolId\"][1:].lower(),\n",
    "                    }\n",
    "                )\n",
    "tokens_from_github = pd.DataFrame(tokens_from_github)\n",
    "token_expiry = pd.merge(tokens_from_github, token_names, on=\"token_address_raw\")\n",
    "token_expiry = token_expiry.loc[:, [\"token_address_raw\", \"token_name\", \"expiry_timestamp\", \"expiry_datetime\"]]\n",
    "display(token_expiry.head(1))\n",
    "pql.register(token_expiry, \"token_expiry\")"
   ]
  },
  {
   "cell_type": "code",
   "execution_count": 18,
   "metadata": {},
   "outputs": [
    {
     "data": {
      "text/plain": [
       "True     28821\n",
       "False       40\n",
       "Name: lp_token, dtype: int64"
      ]
     },
     "execution_count": 18,
     "metadata": {},
     "output_type": "execute_result"
    }
   ],
   "source": [
    "element_liquidity.lp_token.isin(token_expiry.token_name).value_counts()"
   ]
  },
  {
   "cell_type": "code",
   "execution_count": 19,
   "metadata": {},
   "outputs": [
    {
     "name": "stdout",
     "output_type": "stream",
     "text": [
      "replaced 23 rows for LPePyvcrvSTETH-16SEP22   with LPePyvCurve-stETH-16SEP22  \n",
      "replaced  9 rows for LPePyvcrvSTETH-24FEB23   with LPePyvCurve-stETH-24FEB23  \n",
      "replaced  4 rows for LPePyvCurveLUSD-16SEP22  with LPePyvCurve-LUSD-16SEP22   \n",
      "replaced  4 rows for LPePyvcrv3crypto-16SEP22 with LPePyvCurve-3Crypto-16SEP22\n"
     ]
    }
   ],
   "source": [
    "element_liquidity.loc[~element_liquidity.lp_token.isin(token_expiry.token_name),:]\n",
    "element_liquidity.loc[~element_liquidity.lp_token.isin(token_expiry.token_name),'lp_token'].value_counts()\n",
    "# rename liquidity data to match onchain token names\n",
    "old_names = ['LPePyvcrvSTETH-16SEP22', 'LPePyvcrvSTETH-24FEB23', 'LPePyvCurveLUSD-16SEP22', 'LPePyvcrv3crypto-16SEP22']\n",
    "new_names = ['LPePyvCurve-stETH-16SEP22', 'LPePyvCurve-stETH-24FEB23', 'LPePyvCurve-LUSD-16SEP22', 'LPePyvCurve-3Crypto-16SEP22']\n",
    "for idx in range(len(old_names)):\n",
    "    rows_to_replace = element_liquidity.lp_token==old_names[idx]\n",
    "    element_liquidity.loc[rows_to_replace, 'lp_token'] = new_names[idx]\n",
    "    print(f\"replaced {sum(rows_to_replace):2g} rows for {old_names[idx]:24s} with {new_names[idx]:27s}\")"
   ]
  },
  {
   "cell_type": "code",
   "execution_count": 20,
   "metadata": {},
   "outputs": [
    {
     "data": {
      "text/plain": [
       "True    1765\n",
       "Name: token, dtype: int64"
      ]
     },
     "execution_count": 20,
     "metadata": {},
     "output_type": "execute_result"
    }
   ],
   "source": [
    "element_transfers.token.isin(token_expiry.token_name).value_counts()"
   ]
  },
  {
   "cell_type": "code",
   "execution_count": 21,
   "metadata": {},
   "outputs": [],
   "source": [
    "# add to pql\n",
    "pql.register(element_liquidity, \"liquidity\")\n",
    "pql.register(element_transfers, \"transfers\")\n",
    "\n",
    "# the `lp_events` table contains all events related to Element LP tokens\n",
    "# and contains expiry metadata for each related token\n",
    "\n",
    "lp_events = pql.q(\n",
    "    \"\"\"\n",
    "     \n",
    "SELECT ROW_NUMBER() OVER (PARTITION BY address, token_expiry.token_name\n",
    "                          ORDER BY datetime ASC) AS row_num,\n",
    "       DATETIME_PARSE(datetime) AS datetime,\n",
    "       tx_hash,\n",
    "       address, -- signer: et.\"from\"\n",
    "       liquidityProvider,\n",
    "       token_expiry.token_name AS token_name,\n",
    "       token_change,\n",
    "       usd_change,\n",
    "       recipient_address,\n",
    "       event_type,\n",
    "       expiry_timestamp,\n",
    "       DATETIME(expiry_timestamp, 'unixepoch') AS expiry_datetime,\n",
    "       evt_index,\n",
    "       tx_index\n",
    "\n",
    " FROM (\n",
    "\n",
    "    SELECT evt_block_time AS datetime,\n",
    "           evt_tx_hash AS tx_hash,\n",
    "           liquidity_provider AS address,\n",
    "           liquidityProvider,\n",
    "           lp_token,\n",
    "           lp_tokens_acquired AS token_change,\n",
    "           deposit_size_base_usd AS usd_change,\n",
    "           '' AS recipient_address,\n",
    "           'deposit' AS event_type,\n",
    "           \"index\" AS evt_index,\n",
    "           tx_index\n",
    "      FROM liquidity\n",
    "     WHERE lp_tokens_acquired >= 0\n",
    "\n",
    "     UNION ALL\n",
    "\n",
    "    SELECT evt_block_time AS datetime,\n",
    "           evt_tx_hash AS tx_hash,\n",
    "           liquidity_provider AS address,\n",
    "           liquidityProvider,\n",
    "           lp_token,\n",
    "           lp_tokens_acquired AS token_change,\n",
    "           deposit_size_base_usd AS usd_change,\n",
    "           '' AS recipient_address,\n",
    "           'withdraw' AS event_type,\n",
    "           \"index\" AS evt_index,\n",
    "           tx_index\n",
    "      FROM liquidity\n",
    "     WHERE lp_tokens_acquired < 0\n",
    "\n",
    "     UNION ALL\n",
    "\n",
    "    SELECT block_time AS datetime,\n",
    "           tx_hash AS tx_hash,\n",
    "           sender AS address,\n",
    "           '' AS liquidityProvider,\n",
    "           token AS lp_token,\n",
    "           -tokens_transferred AS token_change,\n",
    "           0 AS usd_change,\n",
    "           recipient AS recipient_address,\n",
    "           'send' AS event_type,\n",
    "           \"index\" AS evt_index,\n",
    "           tx_index\n",
    "      FROM transfers\n",
    "     WHERE token LIKE 'LP%'\n",
    "\n",
    ") a LEFT JOIN token_expiry\n",
    "      ON a.lp_token = token_expiry.token_name\n",
    "\n",
    "-- note that tie-breaking sorting using the `evt_index`\n",
    "-- resolves cases where smart contracts may receive funds\n",
    "-- and then disburse them in a single transaction\n",
    "ORDER BY datetime ASC, tx_index ASC, evt_index ASC\n",
    "\n",
    "\"\"\"\n",
    ")\n",
    "pql.register(lp_events, \"lp_events\")\n"
   ]
  },
  {
   "cell_type": "code",
   "execution_count": 22,
   "metadata": {},
   "outputs": [
    {
     "name": "stdout",
     "output_type": "stream",
     "text": [
      "overwriting liquidity_provider address for \\xc01318bab7ee1f5ba734172bf7718b5dc6ec90e1for 1 rows\n",
      "overwriting liquidity_provider address for \\xb3dfe140a77ec43006499cb8c2e5e31975cad909for 9 rows\n",
      "overwriting liquidity_provider address for \\x887d69a7b3dd3e36d7c56556d2df24ee117474f2for 2 rows\n",
      "overwriting liquidity_provider address for \\xbc79855178842fdba0c353494895deef509e26bbfor 3 rows\n",
      "overwriting liquidity_provider address for \\x16e46dec73c0d372b461718869fba264ec08b137for 8 rows\n",
      "overwriting liquidity_provider address for \\x27f0e8beccfa594f4b08c24226ce75c535b900eafor 8 rows\n",
      "overwriting liquidity_provider address for \\x849d52316331967b6ff1198e5e32a0eb168d039dfor 12 rows\n",
      "overwriting liquidity_provider address for \\xcc425c2bb07a5d21956eaed275ba677384eb097ffor 4 rows\n",
      "overwriting liquidity_provider address for \\x9b33dd59fa401374f9213d591d0319a9d7e9d2cbfor 10 rows\n",
      "overwriting liquidity_provider address for \\xeda61b1e9f414889dde0dbe83b3bacf814a98e87for 2 rows\n",
      "overwriting liquidity_provider address for \\xf6094c3a380ad6161fb8240f3043392a0e427cacfor 1 rows\n",
      "overwriting liquidity_provider address for \\x8b65ae9ea624627bf697132e67c7baeb68e3bf10for 1 rows\n",
      "overwriting liquidity_provider address for \\xfdf3cbc633d22dfcdac83a714f7228255e07f849for 3 rows\n",
      "overwriting liquidity_provider address for \\x2c076c41eaa56e5a61f2a36cf56159fff15738acfor 3 rows\n",
      "total affected rows replaced: 67. nice!\n",
      "WARNING: send before receive\n",
      "\\xece48d83a2f89b6f5ded23362ac15c19f91e0ddb\n",
      "WARNING: send before receive\n",
      "\\xece48d83a2f89b6f5ded23362ac15c19f91e0ddb\n"
     ]
    }
   ],
   "source": [
    "\n",
    "# list all contracts where signer isn't same as sender\n",
    "listOfDoubleAddresses = list(\n",
    "    set(\n",
    "        (\n",
    "            lp_events.loc[\n",
    "                lp_events.address != lp_events.liquidityProvider, [\"liquidityProvider\"]\n",
    "            ]\n",
    "        ).liquidityProvider.values\n",
    "    )\n",
    ")\n",
    "listOfDoubleAddresses = listOfDoubleAddresses[1:]\n",
    "\n",
    "# replace signer with sender for these contracts\n",
    "n = 0\n",
    "for double_address in listOfDoubleAddresses:\n",
    "    idxAffectedRows = lp_events.liquidityProvider == double_address\n",
    "    different_rows = sum(\n",
    "        lp_events.loc[idxAffectedRows, \"address\"]\n",
    "        != lp_events.loc[idxAffectedRows, \"liquidityProvider\"]\n",
    "    )\n",
    "    n += different_rows\n",
    "    print(\n",
    "        f\"overwriting liquidity_provider address for {double_address}\"\n",
    "        f\"for {different_rows} rows\"\n",
    "    )\n",
    "    lp_events.loc[idxAffectedRows, \"address\"] = lp_events.loc[\n",
    "        idxAffectedRows, \"liquidityProvider\"\n",
    "    ]\n",
    "print(f\"total affected rows replaced: {n}. nice!\")\n",
    "\n",
    "# what's the most recent timestamp in the LP data? used later\n",
    "max_datetime = pql.q(\"SELECT MAX(datetime) FROM lp_events\")[\"MAX(datetime)\"][0]\n",
    "\n",
    "# helper function to look up previous balance\n",
    "def get_usd_balance_for_address(address_index, address):\n",
    "    \"\"\"\n",
    "    Note that since this is based off of the 'rolling_usd_balance' it\n",
    "    includes the EARLY_BIRD_BONUS.\n",
    "    \"\"\"\n",
    "    usd_balance_total = 0\n",
    "    for token_name in address_index[address].keys():\n",
    "        usd_balance_total += address_index[address][token_name][-1][\n",
    "            \"rolling_usd_balance\"\n",
    "        ]\n",
    "    return usd_balance_total\n",
    "\n",
    "\n",
    "def build_token_index(lp_events):\n",
    "    \"\"\"\n",
    "    USD credit for LPs is given at the time of deposit\n",
    "    i.e., the ETH price at the time of deposit is how their \"credit\"\n",
    "    for the airdrop is calculated\n",
    "\n",
    "    when LP tokens are transferred between addresses, we must retain\n",
    "    the \"credit value\" of the tokens even upon transfer\n",
    "    \"\"\"\n",
    "\n",
    "    EARLY_BIRD_BONUS = 1.0  # 0%\n",
    "    EARLY_BIRD_USD_THRESHOLD = 0 * 1e6  # 0 million\n",
    "    EARLY_BIRD_TIME_DELTA = timedelta(days=0)  # 0 days\n",
    "\n",
    "    # for storing full rows for a given address, token pair\n",
    "    address_token_index = defaultdict(dict)\n",
    "    # for storing the cumulative deposits (and not withdrawals) to a pool\n",
    "    pool_index = {}\n",
    "\n",
    "    # for storing full rows for a given address, token pair\n",
    "    address_token_index = defaultdict(dict)\n",
    "    # for storing the cumulative deposits (and not withdrawals) to a pool\n",
    "    pool_index = {}\n",
    "    # for storing bad addresses to be investigated later (withdraw before deposit)\n",
    "    bad_address = []\n",
    "    bad_address_zero_balance = []\n",
    "\n",
    "    # iterate according to:\n",
    "    # ORDER BY datetime ASC, tx_index ASC, evt_index ASC\n",
    "    for _, row in lp_events.iterrows():\n",
    "        new_row = dict(row)\n",
    "\n",
    "        address = new_row[\"address\"]\n",
    "        event_type = new_row[\"event_type\"]\n",
    "        token_name = new_row[\"token_name\"]\n",
    "        if token_name is None:\n",
    "            display(\"warning: none token name:\")\n",
    "            display(new_row)\n",
    "        token_change = new_row[\"token_change\"]\n",
    "        usd_change = new_row[\"usd_change\"]\n",
    "        event_datetime = new_row[\"datetime\"]\n",
    "        recipient_address = new_row[\"recipient_address\"]\n",
    "\n",
    "        # membership in `address_token_index`\n",
    "        if not token_name in address_token_index[address]:\n",
    "\n",
    "            if event_type == \"deposit\":\n",
    "\n",
    "                # update cumulative token deposits\n",
    "                if token_name not in pool_index:\n",
    "                    apply_early_bird_bonus = True\n",
    "                    pool_index[token_name] = {}\n",
    "                    pool_index[token_name][\"usd_balance\"] = usd_change\n",
    "                    pool_index[token_name][\n",
    "                        \"first_deposit_datetime\"\n",
    "                    ] = datetime.strptime(event_datetime, \"%Y-%m-%d %H:%M:%S\")\n",
    "                else:\n",
    "                    elapsed_time = (\n",
    "                        datetime.strptime(event_datetime, \"%Y-%m-%d %H:%M:%S\")\n",
    "                        - pool_index[token_name][\"first_deposit_datetime\"]\n",
    "                    )\n",
    "                    if (\n",
    "                        pool_index[token_name][\"usd_balance\"]\n",
    "                        <= EARLY_BIRD_USD_THRESHOLD\n",
    "                        and elapsed_time < EARLY_BIRD_TIME_DELTA\n",
    "                    ):\n",
    "                        apply_early_bird_bonus = True\n",
    "                    else:\n",
    "                        apply_early_bird_bonus = False\n",
    "                    pool_index[token_name][\"usd_balance\"] += usd_change\n",
    "\n",
    "                new_row[\"cumulative_deposits_for_pool\"] = pool_index[token_name][\n",
    "                    \"usd_balance\"\n",
    "                ]\n",
    "                new_row[\"first_deposit_for_pool_datetime\"] = pool_index[token_name][\n",
    "                    \"first_deposit_datetime\"\n",
    "                ].strftime(\"%Y-%m-%d %H:%M:%S\")\n",
    "\n",
    "                new_row[\"rolling_token_balance\"] = token_change\n",
    "                new_row[\"rolling_usd_balance\"] = (\n",
    "                    usd_change * EARLY_BIRD_BONUS\n",
    "                    if apply_early_bird_bonus\n",
    "                    else usd_change\n",
    "                )\n",
    "\n",
    "                # need get_usd_balance lookup here: just because it's their first transaction for this token, doesn't mean it's their first transaction overall\n",
    "                new_row[\n",
    "                    \"all_pool_usd_balance_for_address\"\n",
    "                ] = get_usd_balance_for_address(address_token_index, address) + (\n",
    "                    usd_change * EARLY_BIRD_BONUS\n",
    "                    if apply_early_bird_bonus\n",
    "                    else usd_change\n",
    "                )\n",
    "\n",
    "            elif event_type == \"withdraw\":\n",
    "                print(\"WARNING: withdraw before receive\")\n",
    "                bad_address.append(address)\n",
    "                print(address)\n",
    "                continue\n",
    "\n",
    "            elif event_type == \"send\":\n",
    "                # freak out only if it's not the zero address\n",
    "                if address != \"\\\\x0000000000000000000000000000000000000000\":\n",
    "                    print(\"WARNING: send before receive\")\n",
    "                    bad_address.append(address)\n",
    "                    print(address)\n",
    "                continue  # in all cases continue\n",
    "\n",
    "            else:\n",
    "                raise Exception(\"unknown event_type: {}\".format(event_type))\n",
    "\n",
    "            address_token_index[address][token_name] = [new_row]\n",
    "\n",
    "        # token has already been traded\n",
    "        else:\n",
    "\n",
    "            last_row = address_token_index[address][token_name][-1]\n",
    "\n",
    "            if event_type == \"deposit\":\n",
    "\n",
    "                # update cumulative token deposits\n",
    "                elapsed_time = (\n",
    "                    datetime.strptime(event_datetime, \"%Y-%m-%d %H:%M:%S\")\n",
    "                    - pool_index[token_name][\"first_deposit_datetime\"]\n",
    "                )\n",
    "                if (\n",
    "                    pool_index[token_name][\"usd_balance\"] <= EARLY_BIRD_USD_THRESHOLD\n",
    "                    and elapsed_time < EARLY_BIRD_TIME_DELTA\n",
    "                ):\n",
    "                    apply_early_bird_bonus = True\n",
    "                else:\n",
    "                    apply_early_bird_bonus = False\n",
    "                pool_index[token_name][\"usd_balance\"] += usd_change\n",
    "\n",
    "                new_row[\"rolling_token_balance\"] = (\n",
    "                    last_row[\"rolling_token_balance\"] + token_change\n",
    "                )\n",
    "                new_row[\"rolling_usd_balance\"] = last_row[\"rolling_usd_balance\"] + (\n",
    "                    usd_change * EARLY_BIRD_BONUS\n",
    "                    if apply_early_bird_bonus\n",
    "                    else usd_change\n",
    "                )\n",
    "                new_row[\n",
    "                    \"all_pool_usd_balance_for_address\"\n",
    "                ] = get_usd_balance_for_address(address_token_index, address) + (\n",
    "                    usd_change * EARLY_BIRD_BONUS\n",
    "                    if apply_early_bird_bonus\n",
    "                    else usd_change\n",
    "                )\n",
    "\n",
    "            elif event_type == \"withdraw\":\n",
    "\n",
    "                new_row[\"rolling_token_balance\"] = (\n",
    "                    last_row[\"rolling_token_balance\"] + token_change\n",
    "                )\n",
    "\n",
    "                # token change is explicitly negative in a withdraw\n",
    "                if last_row[\"rolling_token_balance\"] == 0:\n",
    "                    print(\"WARNING: token balance is zero\")\n",
    "                    print(last_row)\n",
    "                    bad_address_zero_balance.append(address)\n",
    "                    usd_balance_withdrawn = 0\n",
    "                else:\n",
    "                    usd_balance_withdrawn = (\n",
    "                        token_change / last_row[\"rolling_token_balance\"]\n",
    "                    ) * last_row[\"rolling_usd_balance\"]\n",
    "                    new_row[\"usd_change\"] = usd_balance_withdrawn  # for tracking only\n",
    "\n",
    "                # so we add to decrement\n",
    "                new_row[\"rolling_usd_balance\"] = (\n",
    "                    last_row[\"rolling_usd_balance\"] + usd_balance_withdrawn\n",
    "                )\n",
    "\n",
    "                new_row[\"all_pool_usd_balance_for_address\"] = (\n",
    "                    get_usd_balance_for_address(address_token_index, address)\n",
    "                    + usd_balance_withdrawn\n",
    "                )\n",
    "\n",
    "            elif event_type == \"send\":\n",
    "\n",
    "                # calculate the new token balance since some tokens have been sent\n",
    "                new_row[\"rolling_token_balance\"] = (\n",
    "                    last_row[\"rolling_token_balance\"] + token_change\n",
    "                )\n",
    "\n",
    "                # calculate the dollar equivalency of the sent tokens\n",
    "                if last_row[\"rolling_token_balance\"] == 0:\n",
    "                    print(\"WARNING: token balance is zero\")\n",
    "                    print(last_row)\n",
    "                    bad_address_zero_balance.append(address)\n",
    "                    usd_balance_sent = 0\n",
    "                else:\n",
    "                    usd_balance_sent = (\n",
    "                        token_change / last_row[\"rolling_token_balance\"]\n",
    "                    ) * last_row[\"rolling_usd_balance\"]\n",
    "                    new_row[\"usd_change\"] = usd_balance_sent  # for tracking only\n",
    "\n",
    "                # calculate the new usd balance\n",
    "                new_row[\"rolling_usd_balance\"] = (\n",
    "                    last_row[\"rolling_usd_balance\"] + usd_balance_sent\n",
    "                )\n",
    "                new_row[\"all_pool_usd_balance_for_address\"] = (\n",
    "                    get_usd_balance_for_address(address_token_index, address)\n",
    "                    + usd_balance_sent\n",
    "                )\n",
    "\n",
    "                # construct a new row for the 'receive' event\n",
    "                receiver_row = dict(new_row)\n",
    "                receiver_row[\"address\"] = new_row[\"recipient_address\"]\n",
    "                receiver_row[\"recipient_address\"] = \"\"\n",
    "                receiver_row[\"token_change\"] = -token_change\n",
    "                receiver_row[\"usd_change\"] = -usd_balance_sent\n",
    "                receiver_row[\"event_type\"] = \"receive\"\n",
    "\n",
    "                receiver_address = receiver_row[\"address\"]\n",
    "\n",
    "                # if we've never seen this address receive this token type\n",
    "                if token_name not in address_token_index[receiver_address]:\n",
    "\n",
    "                    # set the relevant new balances\n",
    "                    receiver_row[\n",
    "                        \"rolling_token_balance\"\n",
    "                    ] = -token_change  # TODO: check this sign\n",
    "                    receiver_row[\"rolling_usd_balance\"] = -usd_balance_sent\n",
    "\n",
    "                    receiver_row[\"all_pool_usd_balance_for_address\"] = -usd_balance_sent\n",
    "\n",
    "                    # add the receiver row to its index\n",
    "                    address_token_index[receiver_address][token_name] = [receiver_row]\n",
    "\n",
    "                # if we've seen this address receive this token type\n",
    "                else:\n",
    "\n",
    "                    # then we have existing knowledge of its balances, which we must update\n",
    "                    last_receiver_row = address_token_index[receiver_address][\n",
    "                        token_name\n",
    "                    ][-1]\n",
    "\n",
    "                    # TODO: check this sign\n",
    "                    receiver_row[\"rolling_token_balance\"] = (\n",
    "                        last_receiver_row[\"rolling_token_balance\"] - token_change\n",
    "                    )\n",
    "                    receiver_row[\"rolling_usd_balance\"] = (\n",
    "                        last_receiver_row[\"rolling_usd_balance\"] - usd_balance_sent\n",
    "                    )\n",
    "\n",
    "                    receiver_row[\"all_pool_usd_balance_for_address\"] = (\n",
    "                        get_usd_balance_for_address(address_token_index, address)\n",
    "                        - usd_balance_sent\n",
    "                    )\n",
    "\n",
    "                    address_token_index[receiver_address][token_name].append(\n",
    "                        receiver_row\n",
    "                    )\n",
    "\n",
    "            # we always track the cumulative deposits into the pool, the first deposit datetime, and append the new row to the index\n",
    "            new_row[\"cumulative_deposits_for_pool\"] = pool_index[token_name][\n",
    "                \"usd_balance\"\n",
    "            ]\n",
    "            new_row[\"first_deposit_for_pool_datetime\"] = pool_index[token_name][\n",
    "                \"first_deposit_datetime\"\n",
    "            ].strftime(\"%Y-%m-%d %H:%M:%S\")\n",
    "\n",
    "            address_token_index[address][token_name].append(new_row)\n",
    "    return (address_token_index, bad_address, bad_address_zero_balance)\n",
    "\n",
    "address_token_index, bad_address, bad_address_zero_balance = build_token_index(\n",
    "    lp_events\n",
    ")\n",
    "if len(bad_address_zero_balance) > 0:\n",
    "    print(\"bad addresses with zero balance: \\n\", bad_address_zero_balance)\n",
    "    pd.DataFrame(bad_address_zero_balance).to_csv(\n",
    "        \"bad_address_zero_balance.csv\", index=False, header=False\n",
    "    )"
   ]
  },
  {
   "cell_type": "code",
   "execution_count": 23,
   "metadata": {},
   "outputs": [
    {
     "data": {
      "text/html": [
       "<div>\n",
       "<style scoped>\n",
       "    .dataframe tbody tr th:only-of-type {\n",
       "        vertical-align: middle;\n",
       "    }\n",
       "\n",
       "    .dataframe tbody tr th {\n",
       "        vertical-align: top;\n",
       "    }\n",
       "\n",
       "    .dataframe thead th {\n",
       "        text-align: right;\n",
       "    }\n",
       "</style>\n",
       "<table border=\"1\" class=\"dataframe\">\n",
       "  <thead>\n",
       "    <tr style=\"text-align: right;\">\n",
       "      <th></th>\n",
       "      <th>row_num</th>\n",
       "      <th>datetime</th>\n",
       "      <th>tx_hash</th>\n",
       "      <th>address</th>\n",
       "      <th>liquidityProvider</th>\n",
       "      <th>token_name</th>\n",
       "      <th>token_change</th>\n",
       "      <th>usd_change</th>\n",
       "      <th>recipient_address</th>\n",
       "      <th>event_type</th>\n",
       "      <th>expiry_timestamp</th>\n",
       "      <th>expiry_datetime</th>\n",
       "      <th>evt_index</th>\n",
       "      <th>tx_index</th>\n",
       "    </tr>\n",
       "  </thead>\n",
       "  <tbody>\n",
       "  </tbody>\n",
       "</table>\n",
       "</div>"
      ],
      "text/plain": [
       "Empty DataFrame\n",
       "Columns: [row_num, datetime, tx_hash, address, liquidityProvider, token_name, token_change, usd_change, recipient_address, event_type, expiry_timestamp, expiry_datetime, evt_index, tx_index]\n",
       "Index: []"
      ]
     },
     "metadata": {},
     "output_type": "display_data"
    },
    {
     "data": {
      "text/html": [
       "<div>\n",
       "<style scoped>\n",
       "    .dataframe tbody tr th:only-of-type {\n",
       "        vertical-align: middle;\n",
       "    }\n",
       "\n",
       "    .dataframe tbody tr th {\n",
       "        vertical-align: top;\n",
       "    }\n",
       "\n",
       "    .dataframe thead th {\n",
       "        text-align: right;\n",
       "    }\n",
       "</style>\n",
       "<table border=\"1\" class=\"dataframe\">\n",
       "  <thead>\n",
       "    <tr style=\"text-align: right;\">\n",
       "      <th></th>\n",
       "      <th>row_num</th>\n",
       "      <th>datetime</th>\n",
       "      <th>tx_hash</th>\n",
       "      <th>address</th>\n",
       "      <th>liquidityProvider</th>\n",
       "      <th>token_name</th>\n",
       "      <th>token_change</th>\n",
       "      <th>usd_change</th>\n",
       "      <th>recipient_address</th>\n",
       "      <th>event_type</th>\n",
       "      <th>expiry_timestamp</th>\n",
       "      <th>expiry_datetime</th>\n",
       "      <th>evt_index</th>\n",
       "      <th>tx_index</th>\n",
       "    </tr>\n",
       "  </thead>\n",
       "  <tbody>\n",
       "  </tbody>\n",
       "</table>\n",
       "</div>"
      ],
      "text/plain": [
       "Empty DataFrame\n",
       "Columns: [row_num, datetime, tx_hash, address, liquidityProvider, token_name, token_change, usd_change, recipient_address, event_type, expiry_timestamp, expiry_datetime, evt_index, tx_index]\n",
       "Index: []"
      ]
     },
     "metadata": {},
     "output_type": "display_data"
    }
   ],
   "source": [
    "display(lp_events.loc[lp_events.token_name == None,:])\n",
    "none_tx_hashes = []\n",
    "for _, row in lp_events.iterrows():\n",
    "    new_row = dict(row)\n",
    "    token_name = new_row[\"token_name\"]\n",
    "    if token_name is None:\n",
    "        # display(\"warning: none token name:\")\n",
    "        # display(new_row)\n",
    "        none_tx_hashes.append(new_row[\"tx_hash\"])\n",
    "display(lp_events.loc[lp_events.tx_hash.isin(none_tx_hashes),:])"
   ]
  },
  {
   "cell_type": "code",
   "execution_count": 24,
   "metadata": {},
   "outputs": [
    {
     "data": {
      "text/plain": [
       "[]"
      ]
     },
     "metadata": {},
     "output_type": "display_data"
    }
   ],
   "source": [
    "display(none_tx_hashes)"
   ]
  },
  {
   "cell_type": "code",
   "execution_count": 25,
   "metadata": {},
   "outputs": [
    {
     "data": {
      "text/plain": [
       "0"
      ]
     },
     "execution_count": 25,
     "metadata": {},
     "output_type": "execute_result"
    }
   ],
   "source": [
    "sum(lp_events[\"token_name\"] == None)"
   ]
  },
  {
   "cell_type": "code",
   "execution_count": 26,
   "metadata": {},
   "outputs": [
    {
     "data": {
      "text/plain": [
       "0"
      ]
     },
     "execution_count": 26,
     "metadata": {},
     "output_type": "execute_result"
    }
   ],
   "source": [
    "sum(lp_events[\"tx_hash\"].isin(none_tx_hashes))"
   ]
  },
  {
   "cell_type": "code",
   "execution_count": 27,
   "metadata": {},
   "outputs": [
    {
     "data": {
      "text/plain": [
       "collections.defaultdict"
      ]
     },
     "execution_count": 27,
     "metadata": {},
     "output_type": "execute_result"
    }
   ],
   "source": [
    "type(address_token_index)"
   ]
  },
  {
   "cell_type": "code",
   "execution_count": 28,
   "metadata": {},
   "outputs": [
    {
     "data": {
      "text/plain": [
       "12789"
      ]
     },
     "execution_count": 28,
     "metadata": {},
     "output_type": "execute_result"
    }
   ],
   "source": [
    "len(address_token_index)"
   ]
  },
  {
   "cell_type": "code",
   "execution_count": 29,
   "metadata": {},
   "outputs": [
    {
     "data": {
      "text/plain": [
       "12789"
      ]
     },
     "metadata": {},
     "output_type": "display_data"
    },
    {
     "data": {
      "text/plain": [
       "12789"
      ]
     },
     "metadata": {},
     "output_type": "display_data"
    }
   ],
   "source": [
    "keys = list(address_token_index.keys())\n",
    "display(len(keys))\n",
    "display(len(list(set(keys))))"
   ]
  },
  {
   "cell_type": "code",
   "execution_count": 30,
   "metadata": {},
   "outputs": [
    {
     "data": {
      "text/plain": [
       "['LPePyvCurveLUSD-27DEC21',\n",
       " 'LPePyvcrvSTETH-15OCT21',\n",
       " 'LPeYyvDAI-16OCT21',\n",
       " 'LPePyvCrvTriCrypto-15AUG21',\n",
       " 'LPePyvDAI-16OCT21',\n",
       " 'LPePyvCurve-alUSD-28JAN22',\n",
       " 'LPeYyvCrvTriCrypto-15AUG21',\n",
       " 'LPeYyvCurveLUSD-28SEP21',\n",
       " 'LPeYyvCurveLUSD-27DEC21',\n",
       " 'LPePyvCurveLUSD-28SEP21']"
      ]
     },
     "metadata": {},
     "output_type": "display_data"
    }
   ],
   "source": [
    "level2 = address_token_index[keys[1]]\n",
    "level2keys = list(set(level2.keys()))\n",
    "display(level2keys)"
   ]
  },
  {
   "cell_type": "code",
   "execution_count": 31,
   "metadata": {},
   "outputs": [
    {
     "ename": "KeyError",
     "evalue": "None",
     "output_type": "error",
     "traceback": [
      "\u001b[0;31m---------------------------------------------------------------------------\u001b[0m",
      "\u001b[0;31mKeyError\u001b[0m                                  Traceback (most recent call last)",
      "Cell \u001b[0;32mIn[31], line 1\u001b[0m\n\u001b[0;32m----> 1\u001b[0m level2[\u001b[39mNone\u001b[39;49;00m]\n",
      "\u001b[0;31mKeyError\u001b[0m: None"
     ]
    }
   ],
   "source": [
    "level2[None]"
   ]
  },
  {
   "cell_type": "code",
   "execution_count": null,
   "metadata": {},
   "outputs": [],
   "source": [
    "df.shape"
   ]
  },
  {
   "cell_type": "code",
   "execution_count": null,
   "metadata": {},
   "outputs": [],
   "source": [
    "df.index"
   ]
  },
  {
   "cell_type": "code",
   "execution_count": null,
   "metadata": {},
   "outputs": [],
   "source": [
    "df.head(1)"
   ]
  },
  {
   "cell_type": "code",
   "execution_count": null,
   "metadata": {},
   "outputs": [],
   "source": []
  }
 ],
 "metadata": {
  "kernelspec": {
   "display_name": ".venv",
   "language": "python",
   "name": "python3"
  },
  "language_info": {
   "codemirror_mode": {
    "name": "ipython",
    "version": 3
   },
   "file_extension": ".py",
   "mimetype": "text/x-python",
   "name": "python",
   "nbconvert_exporter": "python",
   "pygments_lexer": "ipython3",
   "version": "3.11.0"
  },
  "orig_nbformat": 4,
  "vscode": {
   "interpreter": {
    "hash": "34b8af9172e5e976f39cd491a6e98068a327ff3629d31a0c23f27f69a9c472ef"
   }
  }
 },
 "nbformat": 4,
 "nbformat_minor": 2
}
