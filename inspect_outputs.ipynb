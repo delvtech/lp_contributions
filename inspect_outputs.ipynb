{
 "cells": [
  {
   "cell_type": "code",
   "execution_count": null,
   "metadata": {},
   "outputs": [],
   "source": [
    "from based_plots import plotit\n",
    "\n",
    "import matplotlib.pyplot as plt\n",
    "import numpy as np\n",
    "import pandas as pd\n",
    "\n",
    "# show decimal style and not scientific notation\n",
    "pd.set_option(\"float_format\",'{:,.10f}'.format)\n",
    "pd.set_option('display.max_rows', 1000)"
   ]
  },
  {
   "cell_type": "code",
   "execution_count": null,
   "metadata": {},
   "outputs": [],
   "source": [
    "results = pd.read_csv('lp_usd_seconds_per_user.csv')\n"
   ]
  },
  {
   "cell_type": "code",
   "execution_count": null,
   "metadata": {},
   "outputs": [],
   "source": [
    "# look at the top 20 LPs\n",
    "results.sort_values(by=['lp_usd_per_30_days'], ascending=False).head(20)\n",
    "\n",
    "# explanations of fields\n",
    "# illustrative means it's provided only for illustrative purposes, and doesn't contribute to the final calculation\n",
    "# all_pool_usd_balance_for_address = maximum USD amount of liquidity provided (illustrative)\n",
    "# lp_usd_seconds = total contribution measured in: USD * seconds across all points in time\n",
    "# lp_usd_seconds_share = lp_usd_seconds / sum(lp_usd_seconds) for all LPs\n",
    "# lp_usd_seconds_per_30_days = lp_usd_seconds/60/60/24/30 (illustrative, to scale to a common sense number)\n",
    "# lp_seconds = total seconds for which the address LP'd\n",
    "# lp_days = lp_seconds/60/60/24 (illustrative, total days days for which the address LP'd)\n",
    "# first_datetime = illustrative, first time this address LP'd\n"
   ]
  },
  {
   "cell_type": "code",
   "execution_count": null,
   "metadata": {},
   "outputs": [],
   "source": [
    "# check out distribution of results\n",
    "display(results.describe(np.arange(0,1.05,0.05)))\n"
   ]
  },
  {
   "cell_type": "code",
   "execution_count": null,
   "metadata": {},
   "outputs": [],
   "source": [
    "fig, axs = plt.subplots(1,1,figsize=(12,6))\n",
    "plot_handle, gini_coeff, title = plotit(axs,results, 'lp_usd_seconds')\n",
    "axs.set_xlabel('# of LPs')\n",
    "axs.set_ylabel('share of contribution')\n",
    "axs.legend(['actual distribution','perfectly equal distribution'])\n",
    "plt.show()"
   ]
  },
  {
   "cell_type": "code",
   "execution_count": null,
   "metadata": {},
   "outputs": [],
   "source": [
    "fig, axs = plt.subplots(1,1,figsize=(12,12))\n",
    "distrib = results.sort_values(by='lp_usd_seconds', ascending=False).reset_index(drop=True)\n",
    "distrib[\"lp_usd_seconds_cum\"]=distrib.lp_usd_seconds.cumsum()\n",
    "distrib[\"lp_usd_seconds_share\"]=distrib.lp_usd_seconds/sum(distrib.lp_usd_seconds)*1\n",
    "distrib[\"lp_usd_seconds_share_cum\"]=distrib.lp_usd_seconds_share.cumsum()\n",
    "axs.plot(distrib.index,distrib.lp_usd_seconds_share_cum)\n",
    "axs.set_title('total lp_usd_seconds')\n",
    "y_lines = np.arange(0.1,1.1,0.1)\n",
    "for line in y_lines:\n",
    "    axs.axhline(y=line,color='red',linestyle='dotted',alpha=0.5)\n",
    "x = [0,1,2,4,9,24,49,99,199]\n",
    "y = []\n",
    "for i in x:\n",
    "    y.append(distrib[\"lp_usd_seconds_share_cum\"][i])\n",
    "    n = x.index(i)\n",
    "    text = '{} users w/ {:,.1%} share'.format(i+1,y[n])\n",
    "    print('{:3.0f} users w/ {:9,.1%} share'.format(i+1,y[n]))\n",
    "    scale_back = 1e7\n",
    "    if n>5:\n",
    "        xOffset = -38\n",
    "        yOffset = 0.015\n",
    "    else:\n",
    "        xOffset = +2\n",
    "        yOffset = -0.07*1e6/scale_back\n",
    "    if n>2: yOffset+= -0.05*1e6/scale_back\n",
    "    plt.annotate(text,(i+xOffset,y[n]+yOffset))\n",
    "plt.scatter(x, y,color='red')\n",
    "plt.setp(axs,'xlim',(-2,210))\n",
    "# plt.setp(axs,'ylim',(-0.1*1e6, 6*1e6))\n",
    "plt.setp(axs,xticks = np.concatenate([np.arange(0,210,10)]))\n",
    "plt.setp(axs,yticks = y_lines)\n",
    "\n",
    "plt.show()"
   ]
  },
  {
   "cell_type": "code",
   "execution_count": null,
   "metadata": {},
   "outputs": [],
   "source": []
  }
 ],
 "metadata": {
  "kernelspec": {
   "display_name": ".venv",
   "language": "python",
   "name": "python3"
  },
  "language_info": {
   "codemirror_mode": {
    "name": "ipython",
    "version": 3
   },
   "file_extension": ".py",
   "mimetype": "text/x-python",
   "name": "python",
   "nbconvert_exporter": "python",
   "pygments_lexer": "ipython3",
   "version": "3.11.0"
  },
  "orig_nbformat": 4,
  "vscode": {
   "interpreter": {
    "hash": "34b8af9172e5e976f39cd491a6e98068a327ff3629d31a0c23f27f69a9c472ef"
   }
  }
 },
 "nbformat": 4,
 "nbformat_minor": 2
}
