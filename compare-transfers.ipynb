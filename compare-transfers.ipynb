{
 "cells": [
  {
   "cell_type": "code",
   "execution_count": null,
   "metadata": {},
   "outputs": [],
   "source": [
    "import pandas as pd\n"
   ]
  },
  {
   "cell_type": "code",
   "execution_count": null,
   "metadata": {},
   "outputs": [],
   "source": [
    "# read in data\n",
    "element_transfers = pd.read_csv('element_transfers_JA.csv')\n",
    "element_transfers_old = pd.read_csv('element_transfers.csv')\n",
    "element_transfers[\"datetime\"] = pd.to_datetime(element_transfers[\"block_time\"])\n",
    "element_transfers_old[\"datetime\"] = pd.to_datetime(element_transfers_old[\"block_time\"])\n",
    "element_transfers.sort_values(by='datetime',ascending=False)\n",
    "element_transfers_old.sort_values(by='datetime',ascending=False)"
   ]
  },
  {
   "cell_type": "code",
   "execution_count": null,
   "metadata": {},
   "outputs": [],
   "source": [
    "max_date_old = element_transfers_old['datetime'].max()\n",
    "print(f\"old dataset includes data up to {max_date_old}\")\n",
    "element_transfers_truncated = element_transfers[element_transfers['datetime'] <= max_date_old]\n",
    "print(f\"truncating new dataset to include data only up to {element_transfers_truncated['datetime'].max()}\")\n"
   ]
  },
  {
   "cell_type": "code",
   "execution_count": null,
   "metadata": {},
   "outputs": [],
   "source": [
    "# compare the two dataframes\n",
    "element_transfers_truncated.equals(element_transfers_old)"
   ]
  },
  {
   "cell_type": "code",
   "execution_count": null,
   "metadata": {},
   "outputs": [],
   "source": [
    "# compare the number of rows\n",
    "display(f\"new shape: {element_transfers_truncated.shape}\\nold shape: {element_transfers_old.shape}\")"
   ]
  },
  {
   "cell_type": "code",
   "execution_count": null,
   "metadata": {},
   "outputs": [],
   "source": [
    "# identify entries in the tx_hash column that are not in element_transfers_truncated\n",
    "idx_not_in_new = ~element_transfers_old['tx_hash'].isin(element_transfers_truncated['tx_hash'])\n",
    "print(f\"entries not in new: {sum(idx_not_in_new)}\")\n",
    "# identify entries in the tx_hash column that are not in element_transfers_old\n",
    "idx_not_in_old = ~element_transfers_truncated['tx_hash'].isin(element_transfers_old['tx_hash'])\n",
    "print(f\"entries not in old: {sum(idx_not_in_old)}\")\n"
   ]
  },
  {
   "cell_type": "code",
   "execution_count": null,
   "metadata": {},
   "outputs": [],
   "source": [
    "# show the entries in the evt_tx_hash column that are not in element_transfers_old\n",
    "not_in_new = element_transfers_old.loc[idx_not_in_new,:]\n",
    "display(not_in_new)\n",
    "display(not_in_new.token.unique())\n"
   ]
  },
  {
   "cell_type": "code",
   "execution_count": null,
   "metadata": {},
   "outputs": [],
   "source": [
    "# show the entries in the evt_tx_hash column that are not in element_transfers_old\n",
    "not_in_old = element_transfers_truncated.loc[idx_not_in_old,:]\n",
    "display(not_in_old)\n",
    "display(not_in_old.token.unique())\n"
   ]
  },
  {
   "cell_type": "code",
   "execution_count": null,
   "metadata": {},
   "outputs": [],
   "source": [
    "# looking at new data, list the tokens in the data\n",
    "list_of_new_tokens = element_transfers.token.unique()\n",
    "list_of_old_tokens = element_transfers_old.token.unique()\n",
    "print(\"new tokens not in old\")\n",
    "display(list(set(list_of_new_tokens) - set(list_of_old_tokens)))\n",
    "print(\"old tokens not in new\")\n",
    "display(list(set(list_of_old_tokens) - set(list_of_new_tokens)))"
   ]
  },
  {
   "cell_type": "code",
   "execution_count": null,
   "metadata": {},
   "outputs": [],
   "source": [
    "# keep only tokens starting with 'LP'\n",
    "element_transfers_LP_only = element_transfers[element_transfers['token'].str.startswith('LP')]\n",
    "print(f\"keeping LPs only, data truncated from {element_transfers.shape[0]} to {element_transfers_LP_only.shape[0]} rows\")"
   ]
  },
  {
   "cell_type": "code",
   "execution_count": null,
   "metadata": {},
   "outputs": [],
   "source": [
    "element_transfers_LP_only.to_csv('element_transfers.csv', index=False)"
   ]
  },
  {
   "cell_type": "code",
   "execution_count": null,
   "metadata": {},
   "outputs": [],
   "source": []
  }
 ],
 "metadata": {
  "kernelspec": {
   "display_name": "Python 3",
   "language": "python",
   "name": "python3"
  },
  "language_info": {
   "codemirror_mode": {
    "name": "ipython",
    "version": 3
   },
   "file_extension": ".py",
   "mimetype": "text/x-python",
   "name": "python",
   "nbconvert_exporter": "python",
   "pygments_lexer": "ipython3",
   "version": "3.11.0"
  },
  "orig_nbformat": 4,
  "vscode": {
   "interpreter": {
    "hash": "ee7104a25c4a35c6f4a1ecc25ea7f92f7ba8866cf7232e0213adf97031d9f04c"
   }
  }
 },
 "nbformat": 4,
 "nbformat_minor": 2
}
